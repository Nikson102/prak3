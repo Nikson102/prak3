{
  "nbformat": 4,
  "nbformat_minor": 0,
  "metadata": {
    "colab": {
      "provenance": []
    },
    "kernelspec": {
      "name": "python3",
      "display_name": "Python 3"
    },
    "language_info": {
      "name": "python"
    }
  },
  "cells": [
    {
      "cell_type": "code",
      "execution_count": null,
      "metadata": {
        "id": "9e9IDyh8307s"
      },
      "outputs": [],
      "source": [
        "import pandas as pd\n",
        "import numpy as np\n",
        "import matplotlib.pyplot as plt\n",
        "import seaborn as sns\n",
        "from sklearn.preprocessing import MinMaxScaler\n",
        "from sklearn.model_selection import train_test_split\n",
        "from tensorflow.keras.models import Sequential\n",
        "from tensorflow.keras.layers import LSTM, Dense, Dropout, Masking\n",
        "from tensorflow.keras.preprocessing.sequence import pad_sequences\n",
        "from sklearn.metrics import multilabel_confusion_matrix, classification_report"
      ]
    },
    {
      "cell_type": "code",
      "source": [
        "# Загрузка данных\n",
        "df = pd.read_csv(\"/content/Friday-WorkingHours-Afternoon-DDos.pcap_ISCX.csv\")\n",
        "# Вывод общей информации\n",
        "df.head()\n"
      ],
      "metadata": {
        "colab": {
          "base_uri": "https://localhost:8080/",
          "height": 463
        },
        "id": "80mgC4k04B3y",
        "outputId": "78b3b5fb-def7-4287-b22a-8e72cbd0191e"
      },
      "execution_count": null,
      "outputs": [
        {
          "output_type": "execute_result",
          "data": {
            "text/plain": [
              "                                   Flow ID       Source IP   Source Port  \\\n",
              "0  192.168.10.5-104.16.207.165-54865-443-6  104.16.207.165           443   \n",
              "1    192.168.10.5-104.16.28.216-55054-80-6   104.16.28.216            80   \n",
              "2    192.168.10.5-104.16.28.216-55055-80-6   104.16.28.216            80   \n",
              "3  192.168.10.16-104.17.241.25-46236-443-6   104.17.241.25           443   \n",
              "4  192.168.10.5-104.19.196.102-54863-443-6  104.19.196.102           443   \n",
              "\n",
              "   Destination IP   Destination Port   Protocol      Timestamp  \\\n",
              "0    192.168.10.5              54865          6  7/7/2017 3:30   \n",
              "1    192.168.10.5              55054          6  7/7/2017 3:30   \n",
              "2    192.168.10.5              55055          6  7/7/2017 3:30   \n",
              "3   192.168.10.16              46236          6  7/7/2017 3:30   \n",
              "4    192.168.10.5              54863          6  7/7/2017 3:30   \n",
              "\n",
              "    Flow Duration   Total Fwd Packets   Total Backward Packets  ...  \\\n",
              "0               3                   2                        0  ...   \n",
              "1             109                   1                        1  ...   \n",
              "2              52                   1                        1  ...   \n",
              "3              34                   1                        1  ...   \n",
              "4               3                   2                        0  ...   \n",
              "\n",
              "    min_seg_size_forward  Active Mean   Active Std   Active Max   Active Min  \\\n",
              "0                     20          0.0          0.0            0            0   \n",
              "1                     20          0.0          0.0            0            0   \n",
              "2                     20          0.0          0.0            0            0   \n",
              "3                     20          0.0          0.0            0            0   \n",
              "4                     20          0.0          0.0            0            0   \n",
              "\n",
              "   Idle Mean   Idle Std   Idle Max   Idle Min   Label  \n",
              "0        0.0        0.0          0          0  BENIGN  \n",
              "1        0.0        0.0          0          0  BENIGN  \n",
              "2        0.0        0.0          0          0  BENIGN  \n",
              "3        0.0        0.0          0          0  BENIGN  \n",
              "4        0.0        0.0          0          0  BENIGN  \n",
              "\n",
              "[5 rows x 85 columns]"
            ],
            "text/html": [
              "\n",
              "  <div id=\"df-fced4215-364a-4057-97b3-324c8340dc57\" class=\"colab-df-container\">\n",
              "    <div>\n",
              "<style scoped>\n",
              "    .dataframe tbody tr th:only-of-type {\n",
              "        vertical-align: middle;\n",
              "    }\n",
              "\n",
              "    .dataframe tbody tr th {\n",
              "        vertical-align: top;\n",
              "    }\n",
              "\n",
              "    .dataframe thead th {\n",
              "        text-align: right;\n",
              "    }\n",
              "</style>\n",
              "<table border=\"1\" class=\"dataframe\">\n",
              "  <thead>\n",
              "    <tr style=\"text-align: right;\">\n",
              "      <th></th>\n",
              "      <th>Flow ID</th>\n",
              "      <th>Source IP</th>\n",
              "      <th>Source Port</th>\n",
              "      <th>Destination IP</th>\n",
              "      <th>Destination Port</th>\n",
              "      <th>Protocol</th>\n",
              "      <th>Timestamp</th>\n",
              "      <th>Flow Duration</th>\n",
              "      <th>Total Fwd Packets</th>\n",
              "      <th>Total Backward Packets</th>\n",
              "      <th>...</th>\n",
              "      <th>min_seg_size_forward</th>\n",
              "      <th>Active Mean</th>\n",
              "      <th>Active Std</th>\n",
              "      <th>Active Max</th>\n",
              "      <th>Active Min</th>\n",
              "      <th>Idle Mean</th>\n",
              "      <th>Idle Std</th>\n",
              "      <th>Idle Max</th>\n",
              "      <th>Idle Min</th>\n",
              "      <th>Label</th>\n",
              "    </tr>\n",
              "  </thead>\n",
              "  <tbody>\n",
              "    <tr>\n",
              "      <th>0</th>\n",
              "      <td>192.168.10.5-104.16.207.165-54865-443-6</td>\n",
              "      <td>104.16.207.165</td>\n",
              "      <td>443</td>\n",
              "      <td>192.168.10.5</td>\n",
              "      <td>54865</td>\n",
              "      <td>6</td>\n",
              "      <td>7/7/2017 3:30</td>\n",
              "      <td>3</td>\n",
              "      <td>2</td>\n",
              "      <td>0</td>\n",
              "      <td>...</td>\n",
              "      <td>20</td>\n",
              "      <td>0.0</td>\n",
              "      <td>0.0</td>\n",
              "      <td>0</td>\n",
              "      <td>0</td>\n",
              "      <td>0.0</td>\n",
              "      <td>0.0</td>\n",
              "      <td>0</td>\n",
              "      <td>0</td>\n",
              "      <td>BENIGN</td>\n",
              "    </tr>\n",
              "    <tr>\n",
              "      <th>1</th>\n",
              "      <td>192.168.10.5-104.16.28.216-55054-80-6</td>\n",
              "      <td>104.16.28.216</td>\n",
              "      <td>80</td>\n",
              "      <td>192.168.10.5</td>\n",
              "      <td>55054</td>\n",
              "      <td>6</td>\n",
              "      <td>7/7/2017 3:30</td>\n",
              "      <td>109</td>\n",
              "      <td>1</td>\n",
              "      <td>1</td>\n",
              "      <td>...</td>\n",
              "      <td>20</td>\n",
              "      <td>0.0</td>\n",
              "      <td>0.0</td>\n",
              "      <td>0</td>\n",
              "      <td>0</td>\n",
              "      <td>0.0</td>\n",
              "      <td>0.0</td>\n",
              "      <td>0</td>\n",
              "      <td>0</td>\n",
              "      <td>BENIGN</td>\n",
              "    </tr>\n",
              "    <tr>\n",
              "      <th>2</th>\n",
              "      <td>192.168.10.5-104.16.28.216-55055-80-6</td>\n",
              "      <td>104.16.28.216</td>\n",
              "      <td>80</td>\n",
              "      <td>192.168.10.5</td>\n",
              "      <td>55055</td>\n",
              "      <td>6</td>\n",
              "      <td>7/7/2017 3:30</td>\n",
              "      <td>52</td>\n",
              "      <td>1</td>\n",
              "      <td>1</td>\n",
              "      <td>...</td>\n",
              "      <td>20</td>\n",
              "      <td>0.0</td>\n",
              "      <td>0.0</td>\n",
              "      <td>0</td>\n",
              "      <td>0</td>\n",
              "      <td>0.0</td>\n",
              "      <td>0.0</td>\n",
              "      <td>0</td>\n",
              "      <td>0</td>\n",
              "      <td>BENIGN</td>\n",
              "    </tr>\n",
              "    <tr>\n",
              "      <th>3</th>\n",
              "      <td>192.168.10.16-104.17.241.25-46236-443-6</td>\n",
              "      <td>104.17.241.25</td>\n",
              "      <td>443</td>\n",
              "      <td>192.168.10.16</td>\n",
              "      <td>46236</td>\n",
              "      <td>6</td>\n",
              "      <td>7/7/2017 3:30</td>\n",
              "      <td>34</td>\n",
              "      <td>1</td>\n",
              "      <td>1</td>\n",
              "      <td>...</td>\n",
              "      <td>20</td>\n",
              "      <td>0.0</td>\n",
              "      <td>0.0</td>\n",
              "      <td>0</td>\n",
              "      <td>0</td>\n",
              "      <td>0.0</td>\n",
              "      <td>0.0</td>\n",
              "      <td>0</td>\n",
              "      <td>0</td>\n",
              "      <td>BENIGN</td>\n",
              "    </tr>\n",
              "    <tr>\n",
              "      <th>4</th>\n",
              "      <td>192.168.10.5-104.19.196.102-54863-443-6</td>\n",
              "      <td>104.19.196.102</td>\n",
              "      <td>443</td>\n",
              "      <td>192.168.10.5</td>\n",
              "      <td>54863</td>\n",
              "      <td>6</td>\n",
              "      <td>7/7/2017 3:30</td>\n",
              "      <td>3</td>\n",
              "      <td>2</td>\n",
              "      <td>0</td>\n",
              "      <td>...</td>\n",
              "      <td>20</td>\n",
              "      <td>0.0</td>\n",
              "      <td>0.0</td>\n",
              "      <td>0</td>\n",
              "      <td>0</td>\n",
              "      <td>0.0</td>\n",
              "      <td>0.0</td>\n",
              "      <td>0</td>\n",
              "      <td>0</td>\n",
              "      <td>BENIGN</td>\n",
              "    </tr>\n",
              "  </tbody>\n",
              "</table>\n",
              "<p>5 rows × 85 columns</p>\n",
              "</div>\n",
              "    <div class=\"colab-df-buttons\">\n",
              "\n",
              "  <div class=\"colab-df-container\">\n",
              "    <button class=\"colab-df-convert\" onclick=\"convertToInteractive('df-fced4215-364a-4057-97b3-324c8340dc57')\"\n",
              "            title=\"Convert this dataframe to an interactive table.\"\n",
              "            style=\"display:none;\">\n",
              "\n",
              "  <svg xmlns=\"http://www.w3.org/2000/svg\" height=\"24px\" viewBox=\"0 -960 960 960\">\n",
              "    <path d=\"M120-120v-720h720v720H120Zm60-500h600v-160H180v160Zm220 220h160v-160H400v160Zm0 220h160v-160H400v160ZM180-400h160v-160H180v160Zm440 0h160v-160H620v160ZM180-180h160v-160H180v160Zm440 0h160v-160H620v160Z\"/>\n",
              "  </svg>\n",
              "    </button>\n",
              "\n",
              "  <style>\n",
              "    .colab-df-container {\n",
              "      display:flex;\n",
              "      gap: 12px;\n",
              "    }\n",
              "\n",
              "    .colab-df-convert {\n",
              "      background-color: #E8F0FE;\n",
              "      border: none;\n",
              "      border-radius: 50%;\n",
              "      cursor: pointer;\n",
              "      display: none;\n",
              "      fill: #1967D2;\n",
              "      height: 32px;\n",
              "      padding: 0 0 0 0;\n",
              "      width: 32px;\n",
              "    }\n",
              "\n",
              "    .colab-df-convert:hover {\n",
              "      background-color: #E2EBFA;\n",
              "      box-shadow: 0px 1px 2px rgba(60, 64, 67, 0.3), 0px 1px 3px 1px rgba(60, 64, 67, 0.15);\n",
              "      fill: #174EA6;\n",
              "    }\n",
              "\n",
              "    .colab-df-buttons div {\n",
              "      margin-bottom: 4px;\n",
              "    }\n",
              "\n",
              "    [theme=dark] .colab-df-convert {\n",
              "      background-color: #3B4455;\n",
              "      fill: #D2E3FC;\n",
              "    }\n",
              "\n",
              "    [theme=dark] .colab-df-convert:hover {\n",
              "      background-color: #434B5C;\n",
              "      box-shadow: 0px 1px 3px 1px rgba(0, 0, 0, 0.15);\n",
              "      filter: drop-shadow(0px 1px 2px rgba(0, 0, 0, 0.3));\n",
              "      fill: #FFFFFF;\n",
              "    }\n",
              "  </style>\n",
              "\n",
              "    <script>\n",
              "      const buttonEl =\n",
              "        document.querySelector('#df-fced4215-364a-4057-97b3-324c8340dc57 button.colab-df-convert');\n",
              "      buttonEl.style.display =\n",
              "        google.colab.kernel.accessAllowed ? 'block' : 'none';\n",
              "\n",
              "      async function convertToInteractive(key) {\n",
              "        const element = document.querySelector('#df-fced4215-364a-4057-97b3-324c8340dc57');\n",
              "        const dataTable =\n",
              "          await google.colab.kernel.invokeFunction('convertToInteractive',\n",
              "                                                    [key], {});\n",
              "        if (!dataTable) return;\n",
              "\n",
              "        const docLinkHtml = 'Like what you see? Visit the ' +\n",
              "          '<a target=\"_blank\" href=https://colab.research.google.com/notebooks/data_table.ipynb>data table notebook</a>'\n",
              "          + ' to learn more about interactive tables.';\n",
              "        element.innerHTML = '';\n",
              "        dataTable['output_type'] = 'display_data';\n",
              "        await google.colab.output.renderOutput(dataTable, element);\n",
              "        const docLink = document.createElement('div');\n",
              "        docLink.innerHTML = docLinkHtml;\n",
              "        element.appendChild(docLink);\n",
              "      }\n",
              "    </script>\n",
              "  </div>\n",
              "\n",
              "\n",
              "    <div id=\"df-e9968797-c9d2-4d1f-841b-ee7b775a1d68\">\n",
              "      <button class=\"colab-df-quickchart\" onclick=\"quickchart('df-e9968797-c9d2-4d1f-841b-ee7b775a1d68')\"\n",
              "                title=\"Suggest charts\"\n",
              "                style=\"display:none;\">\n",
              "\n",
              "<svg xmlns=\"http://www.w3.org/2000/svg\" height=\"24px\"viewBox=\"0 0 24 24\"\n",
              "     width=\"24px\">\n",
              "    <g>\n",
              "        <path d=\"M19 3H5c-1.1 0-2 .9-2 2v14c0 1.1.9 2 2 2h14c1.1 0 2-.9 2-2V5c0-1.1-.9-2-2-2zM9 17H7v-7h2v7zm4 0h-2V7h2v10zm4 0h-2v-4h2v4z\"/>\n",
              "    </g>\n",
              "</svg>\n",
              "      </button>\n",
              "\n",
              "<style>\n",
              "  .colab-df-quickchart {\n",
              "      --bg-color: #E8F0FE;\n",
              "      --fill-color: #1967D2;\n",
              "      --hover-bg-color: #E2EBFA;\n",
              "      --hover-fill-color: #174EA6;\n",
              "      --disabled-fill-color: #AAA;\n",
              "      --disabled-bg-color: #DDD;\n",
              "  }\n",
              "\n",
              "  [theme=dark] .colab-df-quickchart {\n",
              "      --bg-color: #3B4455;\n",
              "      --fill-color: #D2E3FC;\n",
              "      --hover-bg-color: #434B5C;\n",
              "      --hover-fill-color: #FFFFFF;\n",
              "      --disabled-bg-color: #3B4455;\n",
              "      --disabled-fill-color: #666;\n",
              "  }\n",
              "\n",
              "  .colab-df-quickchart {\n",
              "    background-color: var(--bg-color);\n",
              "    border: none;\n",
              "    border-radius: 50%;\n",
              "    cursor: pointer;\n",
              "    display: none;\n",
              "    fill: var(--fill-color);\n",
              "    height: 32px;\n",
              "    padding: 0;\n",
              "    width: 32px;\n",
              "  }\n",
              "\n",
              "  .colab-df-quickchart:hover {\n",
              "    background-color: var(--hover-bg-color);\n",
              "    box-shadow: 0 1px 2px rgba(60, 64, 67, 0.3), 0 1px 3px 1px rgba(60, 64, 67, 0.15);\n",
              "    fill: var(--button-hover-fill-color);\n",
              "  }\n",
              "\n",
              "  .colab-df-quickchart-complete:disabled,\n",
              "  .colab-df-quickchart-complete:disabled:hover {\n",
              "    background-color: var(--disabled-bg-color);\n",
              "    fill: var(--disabled-fill-color);\n",
              "    box-shadow: none;\n",
              "  }\n",
              "\n",
              "  .colab-df-spinner {\n",
              "    border: 2px solid var(--fill-color);\n",
              "    border-color: transparent;\n",
              "    border-bottom-color: var(--fill-color);\n",
              "    animation:\n",
              "      spin 1s steps(1) infinite;\n",
              "  }\n",
              "\n",
              "  @keyframes spin {\n",
              "    0% {\n",
              "      border-color: transparent;\n",
              "      border-bottom-color: var(--fill-color);\n",
              "      border-left-color: var(--fill-color);\n",
              "    }\n",
              "    20% {\n",
              "      border-color: transparent;\n",
              "      border-left-color: var(--fill-color);\n",
              "      border-top-color: var(--fill-color);\n",
              "    }\n",
              "    30% {\n",
              "      border-color: transparent;\n",
              "      border-left-color: var(--fill-color);\n",
              "      border-top-color: var(--fill-color);\n",
              "      border-right-color: var(--fill-color);\n",
              "    }\n",
              "    40% {\n",
              "      border-color: transparent;\n",
              "      border-right-color: var(--fill-color);\n",
              "      border-top-color: var(--fill-color);\n",
              "    }\n",
              "    60% {\n",
              "      border-color: transparent;\n",
              "      border-right-color: var(--fill-color);\n",
              "    }\n",
              "    80% {\n",
              "      border-color: transparent;\n",
              "      border-right-color: var(--fill-color);\n",
              "      border-bottom-color: var(--fill-color);\n",
              "    }\n",
              "    90% {\n",
              "      border-color: transparent;\n",
              "      border-bottom-color: var(--fill-color);\n",
              "    }\n",
              "  }\n",
              "</style>\n",
              "\n",
              "      <script>\n",
              "        async function quickchart(key) {\n",
              "          const quickchartButtonEl =\n",
              "            document.querySelector('#' + key + ' button');\n",
              "          quickchartButtonEl.disabled = true;  // To prevent multiple clicks.\n",
              "          quickchartButtonEl.classList.add('colab-df-spinner');\n",
              "          try {\n",
              "            const charts = await google.colab.kernel.invokeFunction(\n",
              "                'suggestCharts', [key], {});\n",
              "          } catch (error) {\n",
              "            console.error('Error during call to suggestCharts:', error);\n",
              "          }\n",
              "          quickchartButtonEl.classList.remove('colab-df-spinner');\n",
              "          quickchartButtonEl.classList.add('colab-df-quickchart-complete');\n",
              "        }\n",
              "        (() => {\n",
              "          let quickchartButtonEl =\n",
              "            document.querySelector('#df-e9968797-c9d2-4d1f-841b-ee7b775a1d68 button');\n",
              "          quickchartButtonEl.style.display =\n",
              "            google.colab.kernel.accessAllowed ? 'block' : 'none';\n",
              "        })();\n",
              "      </script>\n",
              "    </div>\n",
              "    </div>\n",
              "  </div>\n"
            ],
            "application/vnd.google.colaboratory.intrinsic+json": {
              "type": "dataframe",
              "variable_name": "df"
            }
          },
          "metadata": {},
          "execution_count": 164
        }
      ]
    },
    {
      "cell_type": "code",
      "source": [
        "'''Обзор датасета\n",
        "Датасет Friday-WorkingHours-Afternoon-DDos.pcap_ISCX.csv содержит информацию о сетевом трафике, собранном в течение рабочего дня в пятницу, с акцентом на атаки типа DDoS (Distributed Denial of Service). Он включает в себя 225745 записей, каждая из которых содержит различные характеристики сетевых потоков.\n",
        "Описание полей\n",
        "Flow ID: Уникальный идентификатор потока, который позволяет отслеживать отдельные соединения.\n",
        "Source IP: IP-адрес источника, откуда инициируется соединение.\n",
        "Source Port: Порт источника, используемый для отправки данных.\n",
        "Destination IP: IP-адрес назначения, к которому направляется трафик.\n",
        "Destination Port: Порт назначения, на который отправляются данные.\n",
        "Protocol: Протокол, используемый для передачи данных (например, TCP, UDP).\n",
        "Timestamp: Время, когда был зафиксирован поток данных.\n",
        "Flow Duration: Продолжительность потока в миллисекундах.\n",
        "Total Fwd Packets: Общее количество пакетов, отправленных в прямом направлении.\n",
        "Total Backward Packets: Общее количество пакетов, отправленных в обратном направлении.\n",
        "Total Length of Fwd Packets: Общая длина пакетов, отправленных в прямом направлении.\n",
        "Total Length of Bwd Packets: Общая длина пакетов, отправленных в обратном направлении.\n",
        "Fwd Packet Length Max: Максимальная длина пакета в прямом направлении.\n",
        "Fwd Packet Length Min: Минимальная длина пакета в прямом направлении.\n",
        "Fwd Packet Length Mean: Средняя длина пакета в прямом направлении.\n",
        "Fwd Packet Length Std: Стандартное отклонение длины пакетов в прямом направлении.\n",
        "Bwd Packet Length Max: Максимальная длина пакета в обратном направлении.\n",
        "Bwd Packet Length Min: Минимальная длина пакета в обратном направлении.\n",
        "Bwd Packet Length Mean: Средняя длина пакета в обратном направлении.\n",
        "Bwd Packet Length Std: Стандартное отклонение длины пакетов в обратном направлении.\n",
        "Flow Bytes/s: Скорость передачи данных в байтах в секунду.\n",
        "Flow Packets/s: Скорость передачи пакетов в секунду.\n",
        "Flow IAT Mean: Средний интервал времени между пакетами.\n",
        "Flow IAT Std: Стандартное отклонение интервалов времени между пакетами.\n",
        "Flow IAT Max: Максимальный интервал времени между пакетами.\n",
        "Flow IAT Min: Минимальный интервал времени между пакетами.\n",
        "Fwd IAT Total: Общий интервал времени для пакетов в прямом направлении.\n",
        "Fwd IAT Mean: Средний интервал времени для пакетов в прямом направлении.\n",
        "Fwd IAT Std: Стандартное отклонение интервалов времени для пакетов в прямом направлении.\n",
        "Fwd IAT Max: Максимальный интервал времени для пакетов в прямом направлении.\n",
        "Fwd IAT Min: Минимальный интервал времени для пакетов в прямом направлении.\n",
        "Bwd IAT Total: Общий интервал времени для пакетов в обратном направлении.\n",
        "Bwd IAT Mean: Средний интервал времени для пакетов в обратном направлении.\n",
        "Bwd IAT Std: Стандартное отклонение интервалов времени для пакетов в обратном направлении.\n",
        "Bwd IAT Max: Максимальный интервал времени для пакетов в обратном направлении.\n",
        "Bwd IAT Min: Минимальный интервал времени для пакетов в обратном направлении.\n",
        "Fwd PSH Flags: Количество флагов PSH в пакетах в прямом направлении.\n",
        "Bwd PSH Flags: Количество флагов PSH в пакетах в обратном направлении.\n",
        "Fwd URG Flags: Количество флагов URG в пакетах в прямом направлении.\n",
        "Bwd URG Flags: Количество флагов URG в пакетах в обратном направлении.\n",
        "Fwd Header Length: Длина заголовка пакетов в прямом направлении.\n",
        "Bwd Header Length: Длина заголовка пакетов в обратном направлении.\n",
        "Fwd Packets/s: Скорость передачи пакетов в прямом направлении.\n",
        "Bwd Packets/s: Скорость передачи пакетов в обратном направлении.\n",
        "Min Packet Length: Минимальная длина пакета в потоке.\n",
        "Max Packet Length: Максимальная длина пакета в потоке.\n",
        "Packet Length Mean: Средняя длина пакета в потоке.\n",
        "Packet Length Std: Стандартное отклонение длины пакетов в потоке.\n",
        "Packet Length Variance: Дисперсия длины пакетов в потоке.\n",
        "FIN Flag Count: Количество пакетов с установленным флагом FIN.\n",
        "SYN Flag Count: Количество пакетов с установленным флагом SYN.\n",
        "RST Flag Count: Количество пакетов с установленным флагом RST.\n",
        "PSH Flag Count: Количество пакетов с установленным флагом PSH.\n",
        "ACK Flag Count: Количество пакетов с установленным флагом ACK.\n",
        "URG Flag Count: Количество пакетов с установленным флагом URG.\n",
        "CWE Flag Count: Количество пакетов с установленным флагом CWE.\n",
        "ECE Flag Count: Количество пакетов с установленным флагом ECE.\n",
        "Down/Up Ratio: Соотношение объема загруженных и выгруженных данных.\n",
        "Average Packet Size: Средний размер пакета в потоке.\n",
        "Avg Fwd Segment Size: Средний размер сегмента в прямом направлении.\n",
        "Avg Bwd Segment Size: Средний размер сегмента в обратном направлении.\n",
        "Fwd Header Length.1: Длина заголовка пакетов в прямом направлении (возможно, дублирующее поле).\n",
        "Fwd Avg Bytes/Bulk: Среднее количество байтов в пакете в прямом направлении.\n",
        "Fwd Avg Packets/Bulk: Среднее количество пакетов в прямом направлении.\n",
        "Fwd Avg Bulk Rate: Средняя скорость передачи данных в прямом направлении.\n",
        "Bwd Avg Bytes/Bulk: Среднее количество байтов в пакете в обратном направлении.\n",
        "Bwd Avg Packets/Bulk: Среднее количество пакетов в обратном направлении.\n",
        "Bwd Avg Bulk Rate: Средняя скорость передачи данных в обратном направлении.\n",
        "Subflow Fwd Packets: Количество пакетов в подпотоке в прямом направлении.\n",
        "Subflow Fwd Bytes: Объем данных в подфлоте в прямом направлении.\n",
        "Subflow Bwd Packets: Количество пакетов в подфлоте в обратном направлении.\n",
        "Subflow Bwd Bytes: Объем данных в подфлоте в обратном направлении.\n",
        "Init_Win_bytes_forward: Начальный размер окна в байтах для пакетов в прямом направлении.\n",
        "Init_Win_bytes_backward: Начальный размер окна в байтах для пакетов в обратном направлении.\n",
        "act_data_pkt_fwd: Количество активных данных в пакетах в прямом направлении.\n",
        "min_seg_size_forward: Минимальный размер сегмента в прямом направлении.\n",
        "Active Mean: Среднее время активности в потоке.\n",
        "Active Std: Стандартное отклонение времени активности в потоке.\n",
        "Active Max: Максимальное время активности в потоке.\n",
        "Active Min: Минимальное время активности в потоке.\n",
        "Idle Mean: Среднее время простоя в потоке.\n",
        "Idle Std: Стандартное отклонение времени простоя в потоке.\n",
        "Idle Max: Максимальное время простоя в потоке.\n",
        "Idle Min: Минимальное время простоя в потоке.\n",
        "Label: Метка, указывающая на тип трафика (например, атака или нормальный трафик).'''"
      ],
      "metadata": {
        "id": "m-luu8Ivt6Ji"
      },
      "execution_count": null,
      "outputs": []
    },
    {
      "cell_type": "code",
      "source": [
        "# Вывод общей информации\n",
        "print(df.info())"
      ],
      "metadata": {
        "colab": {
          "base_uri": "https://localhost:8080/"
        },
        "id": "YoOMHAw85i-g",
        "outputId": "ca55a855-011c-4ec1-99d1-490576b1a634"
      },
      "execution_count": null,
      "outputs": [
        {
          "output_type": "stream",
          "name": "stdout",
          "text": [
            "<class 'pandas.core.frame.DataFrame'>\n",
            "RangeIndex: 225745 entries, 0 to 225744\n",
            "Data columns (total 85 columns):\n",
            " #   Column                        Non-Null Count   Dtype  \n",
            "---  ------                        --------------   -----  \n",
            " 0   Flow ID                       225745 non-null  object \n",
            " 1    Source IP                    225745 non-null  object \n",
            " 2    Source Port                  225745 non-null  int64  \n",
            " 3    Destination IP               225745 non-null  object \n",
            " 4    Destination Port             225745 non-null  int64  \n",
            " 5    Protocol                     225745 non-null  int64  \n",
            " 6    Timestamp                    225745 non-null  object \n",
            " 7    Flow Duration                225745 non-null  int64  \n",
            " 8    Total Fwd Packets            225745 non-null  int64  \n",
            " 9    Total Backward Packets       225745 non-null  int64  \n",
            " 10  Total Length of Fwd Packets   225745 non-null  int64  \n",
            " 11   Total Length of Bwd Packets  225745 non-null  int64  \n",
            " 12   Fwd Packet Length Max        225745 non-null  int64  \n",
            " 13   Fwd Packet Length Min        225745 non-null  int64  \n",
            " 14   Fwd Packet Length Mean       225745 non-null  float64\n",
            " 15   Fwd Packet Length Std        225745 non-null  float64\n",
            " 16  Bwd Packet Length Max         225745 non-null  int64  \n",
            " 17   Bwd Packet Length Min        225745 non-null  int64  \n",
            " 18   Bwd Packet Length Mean       225745 non-null  float64\n",
            " 19   Bwd Packet Length Std        225745 non-null  float64\n",
            " 20  Flow Bytes/s                  225741 non-null  float64\n",
            " 21   Flow Packets/s               225745 non-null  float64\n",
            " 22   Flow IAT Mean                225745 non-null  float64\n",
            " 23   Flow IAT Std                 225745 non-null  float64\n",
            " 24   Flow IAT Max                 225745 non-null  int64  \n",
            " 25   Flow IAT Min                 225745 non-null  int64  \n",
            " 26  Fwd IAT Total                 225745 non-null  int64  \n",
            " 27   Fwd IAT Mean                 225745 non-null  float64\n",
            " 28   Fwd IAT Std                  225745 non-null  float64\n",
            " 29   Fwd IAT Max                  225745 non-null  int64  \n",
            " 30   Fwd IAT Min                  225745 non-null  int64  \n",
            " 31  Bwd IAT Total                 225745 non-null  int64  \n",
            " 32   Bwd IAT Mean                 225745 non-null  float64\n",
            " 33   Bwd IAT Std                  225745 non-null  float64\n",
            " 34   Bwd IAT Max                  225745 non-null  int64  \n",
            " 35   Bwd IAT Min                  225745 non-null  int64  \n",
            " 36  Fwd PSH Flags                 225745 non-null  int64  \n",
            " 37   Bwd PSH Flags                225745 non-null  int64  \n",
            " 38   Fwd URG Flags                225745 non-null  int64  \n",
            " 39   Bwd URG Flags                225745 non-null  int64  \n",
            " 40   Fwd Header Length            225745 non-null  int64  \n",
            " 41   Bwd Header Length            225745 non-null  int64  \n",
            " 42  Fwd Packets/s                 225745 non-null  float64\n",
            " 43   Bwd Packets/s                225745 non-null  float64\n",
            " 44   Min Packet Length            225745 non-null  int64  \n",
            " 45   Max Packet Length            225745 non-null  int64  \n",
            " 46   Packet Length Mean           225745 non-null  float64\n",
            " 47   Packet Length Std            225745 non-null  float64\n",
            " 48   Packet Length Variance       225745 non-null  float64\n",
            " 49  FIN Flag Count                225745 non-null  int64  \n",
            " 50   SYN Flag Count               225745 non-null  int64  \n",
            " 51   RST Flag Count               225745 non-null  int64  \n",
            " 52   PSH Flag Count               225745 non-null  int64  \n",
            " 53   ACK Flag Count               225745 non-null  int64  \n",
            " 54   URG Flag Count               225745 non-null  int64  \n",
            " 55   CWE Flag Count               225745 non-null  int64  \n",
            " 56   ECE Flag Count               225745 non-null  int64  \n",
            " 57   Down/Up Ratio                225745 non-null  int64  \n",
            " 58   Average Packet Size          225745 non-null  float64\n",
            " 59   Avg Fwd Segment Size         225745 non-null  float64\n",
            " 60   Avg Bwd Segment Size         225745 non-null  float64\n",
            " 61   Fwd Header Length.1          225745 non-null  int64  \n",
            " 62  Fwd Avg Bytes/Bulk            225745 non-null  int64  \n",
            " 63   Fwd Avg Packets/Bulk         225745 non-null  int64  \n",
            " 64   Fwd Avg Bulk Rate            225745 non-null  int64  \n",
            " 65   Bwd Avg Bytes/Bulk           225745 non-null  int64  \n",
            " 66   Bwd Avg Packets/Bulk         225745 non-null  int64  \n",
            " 67  Bwd Avg Bulk Rate             225745 non-null  int64  \n",
            " 68  Subflow Fwd Packets           225745 non-null  int64  \n",
            " 69   Subflow Fwd Bytes            225745 non-null  int64  \n",
            " 70   Subflow Bwd Packets          225745 non-null  int64  \n",
            " 71   Subflow Bwd Bytes            225745 non-null  int64  \n",
            " 72  Init_Win_bytes_forward        225745 non-null  int64  \n",
            " 73   Init_Win_bytes_backward      225745 non-null  int64  \n",
            " 74   act_data_pkt_fwd             225745 non-null  int64  \n",
            " 75   min_seg_size_forward         225745 non-null  int64  \n",
            " 76  Active Mean                   225745 non-null  float64\n",
            " 77   Active Std                   225745 non-null  float64\n",
            " 78   Active Max                   225745 non-null  int64  \n",
            " 79   Active Min                   225745 non-null  int64  \n",
            " 80  Idle Mean                     225745 non-null  float64\n",
            " 81   Idle Std                     225745 non-null  float64\n",
            " 82   Idle Max                     225745 non-null  int64  \n",
            " 83   Idle Min                     225745 non-null  int64  \n",
            " 84   Label                        225745 non-null  object \n",
            "dtypes: float64(24), int64(56), object(5)\n",
            "memory usage: 146.4+ MB\n",
            "None\n"
          ]
        }
      ]
    },
    {
      "cell_type": "code",
      "source": [
        "# Удалим лишние пробелы из названий столбцов и значений\n",
        "df.columns = df.columns.str.strip()"
      ],
      "metadata": {
        "id": "IPMpeQbSHKvl"
      },
      "execution_count": null,
      "outputs": []
    },
    {
      "cell_type": "code",
      "source": [
        "# Вывод общей информации\n",
        "print(df.info())"
      ],
      "metadata": {
        "colab": {
          "base_uri": "https://localhost:8080/"
        },
        "id": "qkqYjYnIHNbz",
        "outputId": "0df99e65-43d5-4691-ba56-ca21d1fb17c2"
      },
      "execution_count": null,
      "outputs": [
        {
          "output_type": "stream",
          "name": "stdout",
          "text": [
            "<class 'pandas.core.frame.DataFrame'>\n",
            "RangeIndex: 225745 entries, 0 to 225744\n",
            "Data columns (total 85 columns):\n",
            " #   Column                       Non-Null Count   Dtype  \n",
            "---  ------                       --------------   -----  \n",
            " 0   Flow ID                      225745 non-null  object \n",
            " 1   Source IP                    225745 non-null  object \n",
            " 2   Source Port                  225745 non-null  int64  \n",
            " 3   Destination IP               225745 non-null  object \n",
            " 4   Destination Port             225745 non-null  int64  \n",
            " 5   Protocol                     225745 non-null  int64  \n",
            " 6   Timestamp                    225745 non-null  object \n",
            " 7   Flow Duration                225745 non-null  int64  \n",
            " 8   Total Fwd Packets            225745 non-null  int64  \n",
            " 9   Total Backward Packets       225745 non-null  int64  \n",
            " 10  Total Length of Fwd Packets  225745 non-null  int64  \n",
            " 11  Total Length of Bwd Packets  225745 non-null  int64  \n",
            " 12  Fwd Packet Length Max        225745 non-null  int64  \n",
            " 13  Fwd Packet Length Min        225745 non-null  int64  \n",
            " 14  Fwd Packet Length Mean       225745 non-null  float64\n",
            " 15  Fwd Packet Length Std        225745 non-null  float64\n",
            " 16  Bwd Packet Length Max        225745 non-null  int64  \n",
            " 17  Bwd Packet Length Min        225745 non-null  int64  \n",
            " 18  Bwd Packet Length Mean       225745 non-null  float64\n",
            " 19  Bwd Packet Length Std        225745 non-null  float64\n",
            " 20  Flow Bytes/s                 225741 non-null  float64\n",
            " 21  Flow Packets/s               225745 non-null  float64\n",
            " 22  Flow IAT Mean                225745 non-null  float64\n",
            " 23  Flow IAT Std                 225745 non-null  float64\n",
            " 24  Flow IAT Max                 225745 non-null  int64  \n",
            " 25  Flow IAT Min                 225745 non-null  int64  \n",
            " 26  Fwd IAT Total                225745 non-null  int64  \n",
            " 27  Fwd IAT Mean                 225745 non-null  float64\n",
            " 28  Fwd IAT Std                  225745 non-null  float64\n",
            " 29  Fwd IAT Max                  225745 non-null  int64  \n",
            " 30  Fwd IAT Min                  225745 non-null  int64  \n",
            " 31  Bwd IAT Total                225745 non-null  int64  \n",
            " 32  Bwd IAT Mean                 225745 non-null  float64\n",
            " 33  Bwd IAT Std                  225745 non-null  float64\n",
            " 34  Bwd IAT Max                  225745 non-null  int64  \n",
            " 35  Bwd IAT Min                  225745 non-null  int64  \n",
            " 36  Fwd PSH Flags                225745 non-null  int64  \n",
            " 37  Bwd PSH Flags                225745 non-null  int64  \n",
            " 38  Fwd URG Flags                225745 non-null  int64  \n",
            " 39  Bwd URG Flags                225745 non-null  int64  \n",
            " 40  Fwd Header Length            225745 non-null  int64  \n",
            " 41  Bwd Header Length            225745 non-null  int64  \n",
            " 42  Fwd Packets/s                225745 non-null  float64\n",
            " 43  Bwd Packets/s                225745 non-null  float64\n",
            " 44  Min Packet Length            225745 non-null  int64  \n",
            " 45  Max Packet Length            225745 non-null  int64  \n",
            " 46  Packet Length Mean           225745 non-null  float64\n",
            " 47  Packet Length Std            225745 non-null  float64\n",
            " 48  Packet Length Variance       225745 non-null  float64\n",
            " 49  FIN Flag Count               225745 non-null  int64  \n",
            " 50  SYN Flag Count               225745 non-null  int64  \n",
            " 51  RST Flag Count               225745 non-null  int64  \n",
            " 52  PSH Flag Count               225745 non-null  int64  \n",
            " 53  ACK Flag Count               225745 non-null  int64  \n",
            " 54  URG Flag Count               225745 non-null  int64  \n",
            " 55  CWE Flag Count               225745 non-null  int64  \n",
            " 56  ECE Flag Count               225745 non-null  int64  \n",
            " 57  Down/Up Ratio                225745 non-null  int64  \n",
            " 58  Average Packet Size          225745 non-null  float64\n",
            " 59  Avg Fwd Segment Size         225745 non-null  float64\n",
            " 60  Avg Bwd Segment Size         225745 non-null  float64\n",
            " 61  Fwd Header Length.1          225745 non-null  int64  \n",
            " 62  Fwd Avg Bytes/Bulk           225745 non-null  int64  \n",
            " 63  Fwd Avg Packets/Bulk         225745 non-null  int64  \n",
            " 64  Fwd Avg Bulk Rate            225745 non-null  int64  \n",
            " 65  Bwd Avg Bytes/Bulk           225745 non-null  int64  \n",
            " 66  Bwd Avg Packets/Bulk         225745 non-null  int64  \n",
            " 67  Bwd Avg Bulk Rate            225745 non-null  int64  \n",
            " 68  Subflow Fwd Packets          225745 non-null  int64  \n",
            " 69  Subflow Fwd Bytes            225745 non-null  int64  \n",
            " 70  Subflow Bwd Packets          225745 non-null  int64  \n",
            " 71  Subflow Bwd Bytes            225745 non-null  int64  \n",
            " 72  Init_Win_bytes_forward       225745 non-null  int64  \n",
            " 73  Init_Win_bytes_backward      225745 non-null  int64  \n",
            " 74  act_data_pkt_fwd             225745 non-null  int64  \n",
            " 75  min_seg_size_forward         225745 non-null  int64  \n",
            " 76  Active Mean                  225745 non-null  float64\n",
            " 77  Active Std                   225745 non-null  float64\n",
            " 78  Active Max                   225745 non-null  int64  \n",
            " 79  Active Min                   225745 non-null  int64  \n",
            " 80  Idle Mean                    225745 non-null  float64\n",
            " 81  Idle Std                     225745 non-null  float64\n",
            " 82  Idle Max                     225745 non-null  int64  \n",
            " 83  Idle Min                     225745 non-null  int64  \n",
            " 84  Label                        225745 non-null  object \n",
            "dtypes: float64(24), int64(56), object(5)\n",
            "memory usage: 146.4+ MB\n",
            "None\n"
          ]
        }
      ]
    },
    {
      "cell_type": "code",
      "source": [
        "# Проверим пропущенные значения\n",
        "missing_values = df.isnull().sum()\n",
        "print(\"Пропущенные значения:\\n\", missing_values[missing_values > 0])"
      ],
      "metadata": {
        "colab": {
          "base_uri": "https://localhost:8080/"
        },
        "id": "Ni1qPxrGGRXD",
        "outputId": "ee6d57b2-1c62-46e9-dc9e-300046c66abe"
      },
      "execution_count": null,
      "outputs": [
        {
          "output_type": "stream",
          "name": "stdout",
          "text": [
            "Пропущенные значения:\n",
            " Flow Bytes/s    4\n",
            "dtype: int64\n"
          ]
        }
      ]
    },
    {
      "cell_type": "code",
      "source": [
        "# Удалим пропущенные и бесконечные значения\n",
        "df.replace([np.inf, -np.inf], np.nan, inplace=True)\n",
        "df.dropna(inplace=True)\n",
        "df.drop_duplicates(inplace=True)"
      ],
      "metadata": {
        "id": "pnZxenhqHVRS"
      },
      "execution_count": null,
      "outputs": []
    },
    {
      "cell_type": "code",
      "source": [
        "# Удаление столбцов с NaN\n",
        "df_cleaned_columns = df.dropna(axis=1)"
      ],
      "metadata": {
        "id": "1znDH_KeMo4P"
      },
      "execution_count": null,
      "outputs": []
    },
    {
      "cell_type": "code",
      "source": [
        "# Проверим пропущенные значения\n",
        "missing_values = df.isnull().sum()\n",
        "print(\"Пропущенные значения:\\n\", missing_values[missing_values > 0])"
      ],
      "metadata": {
        "colab": {
          "base_uri": "https://localhost:8080/"
        },
        "id": "DbSdk0IOHahl",
        "outputId": "9111bd1e-09af-4954-da69-a3101ed58ab1"
      },
      "execution_count": null,
      "outputs": [
        {
          "output_type": "stream",
          "name": "stdout",
          "text": [
            "Пропущенные значения:\n",
            " Series([], dtype: int64)\n"
          ]
        }
      ]
    },
    {
      "cell_type": "code",
      "source": [
        "print(\"Уникальные значения метки:\", df['Label'].unique())\n"
      ],
      "metadata": {
        "colab": {
          "base_uri": "https://localhost:8080/"
        },
        "id": "nztiCMssGylT",
        "outputId": "dd828532-8cd2-4006-fd0e-612795787dc4"
      },
      "execution_count": null,
      "outputs": [
        {
          "output_type": "stream",
          "name": "stdout",
          "text": [
            "Уникальные значения метки: ['BENIGN' 'DDoS']\n"
          ]
        }
      ]
    },
    {
      "cell_type": "markdown",
      "source": [
        "Функция create_attack_labels классифицирует каждый сетевой поток по этапам атаки:\n",
        "\n",
        "0 - Нормальный трафик (BENIGN)\n",
        "\n",
        "1 - Разведка (Recon) - определяется по большому количеству пакетов и высокой скорости\n",
        "\n",
        "2 - Эксплуатация (Exploit) - определяется по большому объему переданных данных\n",
        "\n",
        "3 - Установка контроля (C&C) - определяется по длительности соединения\n",
        "\n",
        "4 - Другая подозрительная активность"
      ],
      "metadata": {
        "id": "dlANgE3Atf1Z"
      }
    },
    {
      "cell_type": "markdown",
      "source": [
        "\n",
        "Обоснование: На этапе разведки злоумышленники часто генерируют большое количество пакетов, чтобы собрать информацию о целевой системе. Высокая скорость передачи данных также может указывать на активное сканирование сети или поиск уязвимостей. Эти параметры помогают выявить подозрительную активность, связанную с разведкой.\n",
        "\n",
        "Эксплуатация (Exploit):\n",
        "Характеристика: Total Length of Fwd Packets > 5000\n",
        "Обоснование: На этапе эксплуатации злоумышленники могут передавать большие объемы данных, чтобы использовать уязвимости в системе. Высокий объем переданных данных может указывать на попытку загрузки вредоносного ПО или выполнения других атакующих действий. Этот параметр помогает выявить такие действия.\n",
        "\n",
        "Установка контроля (C&C):\n",
        "Характеристика: Flow Duration > 30000\n",
        "Обоснование: На этапе установки контроля злоумышленники стремятся установить постоянный доступ к системе. Длительное соединение может указывать на попытку установить связь с командным сервером (C&C) для управления скомпрометированной системой. Этот параметр помогает определить, что соединение может быть частью атаки."
      ],
      "metadata": {
        "id": "AsoAReyyx-VZ"
      }
    },
    {
      "cell_type": "code",
      "source": [
        "# Создание multi-label меток для этапов атаки\n",
        "def create_attack_labels(row):\n",
        "    labels = []\n",
        "    if row['Label'] == 'BENIGN':\n",
        "        labels.append(0)  # Без атаки\n",
        "    else:\n",
        "        if row['Total Fwd Packets'] > 1000 and row['Flow Bytes/s'] > 1e6:\n",
        "            labels.append(1)  # Разведка\n",
        "        if row['Total Length of Fwd Packets'] > 5000:\n",
        "            labels.append(2)  # Эксплуатация\n",
        "        if row['Flow Duration'] > 30000:\n",
        "            labels.append(3)  # Установка контроля\n",
        "        if not labels:  # Если ни один этап не подошел\n",
        "            labels.append(4)  # Другая активность\n",
        "    return labels"
      ],
      "metadata": {
        "id": "E1XpbhpwqHqd"
      },
      "execution_count": null,
      "outputs": []
    },
    {
      "cell_type": "code",
      "source": [
        "# Применяем функцию и преобразуем в multi-hot encoding\n",
        "df['Attack Labels'] = df.apply(create_attack_labels, axis=1)\n",
        "mlb = MultiLabelBinarizer()\n",
        "y = mlb.fit_transform(df['Attack Labels'])"
      ],
      "metadata": {
        "id": "TWi05fIGqONw"
      },
      "execution_count": null,
      "outputs": []
    },
    {
      "cell_type": "code",
      "source": [
        "from sklearn.preprocessing import LabelEncoder, MinMaxScaler\n",
        "\n",
        "\n",
        "# Подготовка данных для LSTM\n",
        "features = df.drop(columns=['Flow ID', 'Source IP', 'Destination IP', 'Timestamp', 'Label', 'Attack Labels'])\n",
        "\n",
        "# Нормализация данных\n",
        "scaler = MinMaxScaler()\n",
        "X = scaler.fit_transform(features)"
      ],
      "metadata": {
        "id": "fqm168YXKG7f"
      },
      "execution_count": null,
      "outputs": []
    },
    {
      "cell_type": "markdown",
      "source": [
        "maxlen=seq_len: Указывает максимальную длину последовательности, равную 10.\n",
        "\n",
        "dtype='float32': Указывает тип данных для выходного массива. В данном случае это 32-битные числа с плавающей точкой.\n",
        "\n",
        "padding='post': Указывает, что дополнение (паддинг) будет происходить в конце последовательности. Если последовательность короче 10, то в конце будут добавлены нули.\n",
        "\n",
        "truncating='post': Указывает, что если последовательность длиннее 10, то лишние элементы будут удалены с конца."
      ],
      "metadata": {
        "id": "7xzMePyNy3Qv"
      }
    },
    {
      "cell_type": "markdown",
      "source": [
        "Группировка данных: Здесь данные из DataFrame df группируются по столбцу Flow ID, который представляет собой уникальный идентификатор для каждой сессии. Это позволяет обрабатывать данные, относящиеся к одной сессии, вместе.\n",
        "python\n",
        "\n",
        "\n",
        "sequences = []\n",
        "seq_labels = []\n",
        "Инициализация списков: Создаются два пустых списка: sequences для хранения последовательностей признаков и seq_labels для хранения меток, соответствующих этим последовательностям.\n",
        "python\n",
        "\n",
        "\n",
        "for flow_id, group in grouped:\n",
        "Итерация по группам: Цикл проходит по каждой группе, где flow_id — это идентификатор потока, а group — это DataFrame, содержащий все записи, относящиеся к этому идентификатору.\n",
        "python\n",
        "\n",
        "\n",
        "if len(group) >= 3:  # Минимум 3 события в сессии\n",
        "Фильтрация по количеству событий: Проверяется, содержит ли группа как минимум 3 события. Это условие необходимо для того, чтобы гарантировать, что последовательность будет достаточно длинной для анализа.\n",
        "python\n",
        "\n",
        "\n",
        "seq_features = scaler.transform(group[features.columns])\n",
        "Масштабирование признаков: Здесь происходит преобразование признаков группы с использованием предварительно обученного масштабировщика (scaler). Это может быть, например, StandardScaler или MinMaxScaler, который нормализует данные, чтобы они находились в определенном диапазоне. features.columns указывает, какие именно столбцы следует использовать для преобразования.\n",
        "python\n",
        "\n",
        "\n",
        "sequences.append(seq_features)\n",
        "Добавление последовательности: Полученные масштабированные признаки добавляются в список sequences.\n",
        "python\n",
        "\n",
        "\n",
        "seq_labels.append(mlb.transform([group['Attack Labels'].iloc[0]])[0])\n",
        "Добавление меток: Здесь берется первая метка атаки из группы (первое событие) и преобразуется с помощью mlb (MultiLabelBinarizer), который кодирует метки в бинарный формат. Полученная метка добавляется в список seq_labels."
      ],
      "metadata": {
        "id": "HPmxfnZHzMtj"
      }
    },
    {
      "cell_type": "code",
      "source": [
        "# Группировка по сессиям (Flow ID) и создание последовательностей\n",
        "grouped = df.groupby('Flow ID')\n",
        "sequences = []\n",
        "seq_labels = []\n",
        "\n",
        "for flow_id, group in grouped:\n",
        "    if len(group) >= 3:  # Минимум 3 события в сессии\n",
        "        seq_features = scaler.transform(group[features.columns])\n",
        "        sequences.append(seq_features)\n",
        "        # Берем метки первого события в сессии\n",
        "        seq_labels.append(mlb.transform([group['Attack Labels'].iloc[0]])[0])\n",
        "\n",
        "# Приведение к единой длине\n",
        "seq_len = 10\n",
        "X = pad_sequences(sequences, maxlen=seq_len, dtype='float32', padding='post', truncating='post')\n",
        "y = np.array(seq_labels)"
      ],
      "metadata": {
        "id": "xDkri6A9K16_"
      },
      "execution_count": null,
      "outputs": []
    },
    {
      "cell_type": "markdown",
      "source": [
        "Модель содержит:\n",
        "\n",
        "Masking слой для обработки переменной длины последовательностей\n",
        "\n",
        "LSTM слой с 128 нейронами\n",
        "\n",
        "Полносвязные слои с dropout для регуляризации\n",
        "\n",
        "Выходной слой с сигмоидальной активацией (для multi-label классификации)"
      ],
      "metadata": {
        "id": "2D09D-1ut6jR"
      }
    },
    {
      "cell_type": "markdown",
      "source": [
        "Создание модели: Здесь создается последовательная модель нейронной сети:\n",
        "Masking: Этот слой игнорирует входные значения, равные 0.0, что полезно для обработки последовательностей с паддингом.\n",
        "\n",
        "LSTM(128, return_sequences=False): Слой LSTM с 128 нейронами. Параметр return_sequences=False указывает, что на выходе будет возвращено только последнее состояние, а не последовательность состояний.\n",
        "\n",
        "Dropout(0.4): Слой Dropout с вероятностью 0.4, который отключает 40% нейронов во время обучения для предотвращения переобучения.\n",
        "Dense(64, activation='relu'): Полносвязный слой с 64 нейронами и активацией ReLU.\n",
        "\n",
        "Dropout(0.3): Еще один слой Dropout с вероятностью 0.3.\n",
        "\n",
        "Dense(y.shape[1], activation='sigmoid'): Выходной слой, количество нейронов соответствует числу меток (классов). Активация sigmoid используется для многометочной классификации."
      ],
      "metadata": {
        "id": "SOXvFXvb0NG2"
      }
    },
    {
      "cell_type": "markdown",
      "source": [
        "Компиляция модели: Здесь модель компилируется с использованием оптимизатора Adam, функции потерь binary_crossentropy (подходящей для многометочной классификации) и метрик для оценки производительности модели (точность, точность и полнота)."
      ],
      "metadata": {
        "id": "qe9Cj50M0WYb"
      }
    },
    {
      "cell_type": "code",
      "source": [
        "from sklearn.model_selection import train_test_split\n",
        "from tensorflow.keras.models import Sequential\n",
        "from tensorflow.keras.layers import LSTM, Dense, Dropout, Masking\n",
        "\n",
        "# Разделение данных\n",
        "X_train, X_test, y_train, y_test = train_test_split(X, y, test_size=0.2, random_state=42)\n",
        "\n",
        "# Построение модели\n",
        "model = Sequential([\n",
        "    Masking(mask_value=0.0, input_shape=(seq_len, X.shape[2])),\n",
        "    LSTM(128, return_sequences=False),\n",
        "    Dropout(0.4),\n",
        "    Dense(64, activation='relu'),\n",
        "    Dropout(0.3),\n",
        "    Dense(y.shape[1], activation='sigmoid')  # Выходной слой по числу меток\n",
        "])\n",
        "\n",
        "model.compile(optimizer='adam',\n",
        "              loss='binary_crossentropy',\n",
        "              metrics=['accuracy', 'Precision', 'Recall'])\n",
        "model.summary()\n",
        "\n",
        "   # Обучение multi-label модели\n",
        "history = model.fit(X_train, y_train,\n",
        "                   validation_data=(X_test, y_test),\n",
        "                   epochs=10,\n",
        "                   batch_size=128)"
      ],
      "metadata": {
        "colab": {
          "base_uri": "https://localhost:8080/",
          "height": 688
        },
        "id": "vKJhzDoZLLNL",
        "outputId": "ab1ec4f7-1349-4778-bd73-bec48bbd8bd9"
      },
      "execution_count": null,
      "outputs": [
        {
          "output_type": "display_data",
          "data": {
            "text/plain": [
              "\u001b[1mModel: \"sequential_10\"\u001b[0m\n"
            ],
            "text/html": [
              "<pre style=\"white-space:pre;overflow-x:auto;line-height:normal;font-family:Menlo,'DejaVu Sans Mono',consolas,'Courier New',monospace\"><span style=\"font-weight: bold\">Model: \"sequential_10\"</span>\n",
              "</pre>\n"
            ]
          },
          "metadata": {}
        },
        {
          "output_type": "display_data",
          "data": {
            "text/plain": [
              "┏━━━━━━━━━━━━━━━━━━━━━━━━━━━━━━━━━┳━━━━━━━━━━━━━━━━━━━━━━━━┳━━━━━━━━━━━━━━━┓\n",
              "┃\u001b[1m \u001b[0m\u001b[1mLayer (type)                   \u001b[0m\u001b[1m \u001b[0m┃\u001b[1m \u001b[0m\u001b[1mOutput Shape          \u001b[0m\u001b[1m \u001b[0m┃\u001b[1m \u001b[0m\u001b[1m      Param #\u001b[0m\u001b[1m \u001b[0m┃\n",
              "┡━━━━━━━━━━━━━━━━━━━━━━━━━━━━━━━━━╇━━━━━━━━━━━━━━━━━━━━━━━━╇━━━━━━━━━━━━━━━┩\n",
              "│ masking_10 (\u001b[38;5;33mMasking\u001b[0m)            │ (\u001b[38;5;45mNone\u001b[0m, \u001b[38;5;34m10\u001b[0m, \u001b[38;5;34m80\u001b[0m)         │             \u001b[38;5;34m0\u001b[0m │\n",
              "├─────────────────────────────────┼────────────────────────┼───────────────┤\n",
              "│ lstm_10 (\u001b[38;5;33mLSTM\u001b[0m)                  │ (\u001b[38;5;45mNone\u001b[0m, \u001b[38;5;34m128\u001b[0m)            │       \u001b[38;5;34m107,008\u001b[0m │\n",
              "├─────────────────────────────────┼────────────────────────┼───────────────┤\n",
              "│ dropout_20 (\u001b[38;5;33mDropout\u001b[0m)            │ (\u001b[38;5;45mNone\u001b[0m, \u001b[38;5;34m128\u001b[0m)            │             \u001b[38;5;34m0\u001b[0m │\n",
              "├─────────────────────────────────┼────────────────────────┼───────────────┤\n",
              "│ dense_20 (\u001b[38;5;33mDense\u001b[0m)                │ (\u001b[38;5;45mNone\u001b[0m, \u001b[38;5;34m64\u001b[0m)             │         \u001b[38;5;34m8,256\u001b[0m │\n",
              "├─────────────────────────────────┼────────────────────────┼───────────────┤\n",
              "│ dropout_21 (\u001b[38;5;33mDropout\u001b[0m)            │ (\u001b[38;5;45mNone\u001b[0m, \u001b[38;5;34m64\u001b[0m)             │             \u001b[38;5;34m0\u001b[0m │\n",
              "├─────────────────────────────────┼────────────────────────┼───────────────┤\n",
              "│ dense_21 (\u001b[38;5;33mDense\u001b[0m)                │ (\u001b[38;5;45mNone\u001b[0m, \u001b[38;5;34m3\u001b[0m)              │           \u001b[38;5;34m195\u001b[0m │\n",
              "└─────────────────────────────────┴────────────────────────┴───────────────┘\n"
            ],
            "text/html": [
              "<pre style=\"white-space:pre;overflow-x:auto;line-height:normal;font-family:Menlo,'DejaVu Sans Mono',consolas,'Courier New',monospace\">┏━━━━━━━━━━━━━━━━━━━━━━━━━━━━━━━━━┳━━━━━━━━━━━━━━━━━━━━━━━━┳━━━━━━━━━━━━━━━┓\n",
              "┃<span style=\"font-weight: bold\"> Layer (type)                    </span>┃<span style=\"font-weight: bold\"> Output Shape           </span>┃<span style=\"font-weight: bold\">       Param # </span>┃\n",
              "┡━━━━━━━━━━━━━━━━━━━━━━━━━━━━━━━━━╇━━━━━━━━━━━━━━━━━━━━━━━━╇━━━━━━━━━━━━━━━┩\n",
              "│ masking_10 (<span style=\"color: #0087ff; text-decoration-color: #0087ff\">Masking</span>)            │ (<span style=\"color: #00d7ff; text-decoration-color: #00d7ff\">None</span>, <span style=\"color: #00af00; text-decoration-color: #00af00\">10</span>, <span style=\"color: #00af00; text-decoration-color: #00af00\">80</span>)         │             <span style=\"color: #00af00; text-decoration-color: #00af00\">0</span> │\n",
              "├─────────────────────────────────┼────────────────────────┼───────────────┤\n",
              "│ lstm_10 (<span style=\"color: #0087ff; text-decoration-color: #0087ff\">LSTM</span>)                  │ (<span style=\"color: #00d7ff; text-decoration-color: #00d7ff\">None</span>, <span style=\"color: #00af00; text-decoration-color: #00af00\">128</span>)            │       <span style=\"color: #00af00; text-decoration-color: #00af00\">107,008</span> │\n",
              "├─────────────────────────────────┼────────────────────────┼───────────────┤\n",
              "│ dropout_20 (<span style=\"color: #0087ff; text-decoration-color: #0087ff\">Dropout</span>)            │ (<span style=\"color: #00d7ff; text-decoration-color: #00d7ff\">None</span>, <span style=\"color: #00af00; text-decoration-color: #00af00\">128</span>)            │             <span style=\"color: #00af00; text-decoration-color: #00af00\">0</span> │\n",
              "├─────────────────────────────────┼────────────────────────┼───────────────┤\n",
              "│ dense_20 (<span style=\"color: #0087ff; text-decoration-color: #0087ff\">Dense</span>)                │ (<span style=\"color: #00d7ff; text-decoration-color: #00d7ff\">None</span>, <span style=\"color: #00af00; text-decoration-color: #00af00\">64</span>)             │         <span style=\"color: #00af00; text-decoration-color: #00af00\">8,256</span> │\n",
              "├─────────────────────────────────┼────────────────────────┼───────────────┤\n",
              "│ dropout_21 (<span style=\"color: #0087ff; text-decoration-color: #0087ff\">Dropout</span>)            │ (<span style=\"color: #00d7ff; text-decoration-color: #00d7ff\">None</span>, <span style=\"color: #00af00; text-decoration-color: #00af00\">64</span>)             │             <span style=\"color: #00af00; text-decoration-color: #00af00\">0</span> │\n",
              "├─────────────────────────────────┼────────────────────────┼───────────────┤\n",
              "│ dense_21 (<span style=\"color: #0087ff; text-decoration-color: #0087ff\">Dense</span>)                │ (<span style=\"color: #00d7ff; text-decoration-color: #00d7ff\">None</span>, <span style=\"color: #00af00; text-decoration-color: #00af00\">3</span>)              │           <span style=\"color: #00af00; text-decoration-color: #00af00\">195</span> │\n",
              "└─────────────────────────────────┴────────────────────────┴───────────────┘\n",
              "</pre>\n"
            ]
          },
          "metadata": {}
        },
        {
          "output_type": "display_data",
          "data": {
            "text/plain": [
              "\u001b[1m Total params: \u001b[0m\u001b[38;5;34m115,459\u001b[0m (451.01 KB)\n"
            ],
            "text/html": [
              "<pre style=\"white-space:pre;overflow-x:auto;line-height:normal;font-family:Menlo,'DejaVu Sans Mono',consolas,'Courier New',monospace\"><span style=\"font-weight: bold\"> Total params: </span><span style=\"color: #00af00; text-decoration-color: #00af00\">115,459</span> (451.01 KB)\n",
              "</pre>\n"
            ]
          },
          "metadata": {}
        },
        {
          "output_type": "display_data",
          "data": {
            "text/plain": [
              "\u001b[1m Trainable params: \u001b[0m\u001b[38;5;34m115,459\u001b[0m (451.01 KB)\n"
            ],
            "text/html": [
              "<pre style=\"white-space:pre;overflow-x:auto;line-height:normal;font-family:Menlo,'DejaVu Sans Mono',consolas,'Courier New',monospace\"><span style=\"font-weight: bold\"> Trainable params: </span><span style=\"color: #00af00; text-decoration-color: #00af00\">115,459</span> (451.01 KB)\n",
              "</pre>\n"
            ]
          },
          "metadata": {}
        },
        {
          "output_type": "display_data",
          "data": {
            "text/plain": [
              "\u001b[1m Non-trainable params: \u001b[0m\u001b[38;5;34m0\u001b[0m (0.00 B)\n"
            ],
            "text/html": [
              "<pre style=\"white-space:pre;overflow-x:auto;line-height:normal;font-family:Menlo,'DejaVu Sans Mono',consolas,'Courier New',monospace\"><span style=\"font-weight: bold\"> Non-trainable params: </span><span style=\"color: #00af00; text-decoration-color: #00af00\">0</span> (0.00 B)\n",
              "</pre>\n"
            ]
          },
          "metadata": {}
        },
        {
          "output_type": "stream",
          "name": "stdout",
          "text": [
            "Epoch 1/10\n",
            "\u001b[1m131/131\u001b[0m \u001b[32m━━━━━━━━━━━━━━━━━━━━\u001b[0m\u001b[37m\u001b[0m \u001b[1m13s\u001b[0m 65ms/step - Precision: 0.7925 - Recall: 0.7453 - accuracy: 0.7794 - loss: 0.3561 - val_Precision: 0.9403 - val_Recall: 0.9403 - val_accuracy: 0.9403 - val_loss: 0.1475\n",
            "Epoch 2/10\n",
            "\u001b[1m131/131\u001b[0m \u001b[32m━━━━━━━━━━━━━━━━━━━━\u001b[0m\u001b[37m\u001b[0m \u001b[1m9s\u001b[0m 54ms/step - Precision: 0.9366 - Recall: 0.9361 - accuracy: 0.9364 - loss: 0.1589 - val_Precision: 0.9446 - val_Recall: 0.9446 - val_accuracy: 0.9446 - val_loss: 0.1365\n",
            "Epoch 3/10\n",
            "\u001b[1m131/131\u001b[0m \u001b[32m━━━━━━━━━━━━━━━━━━━━\u001b[0m\u001b[37m\u001b[0m \u001b[1m9s\u001b[0m 45ms/step - Precision: 0.9460 - Recall: 0.9458 - accuracy: 0.9460 - loss: 0.1373 - val_Precision: 0.9449 - val_Recall: 0.9449 - val_accuracy: 0.9449 - val_loss: 0.1315\n",
            "Epoch 4/10\n",
            "\u001b[1m131/131\u001b[0m \u001b[32m━━━━━━━━━━━━━━━━━━━━\u001b[0m\u001b[37m\u001b[0m \u001b[1m11s\u001b[0m 49ms/step - Precision: 0.9459 - Recall: 0.9458 - accuracy: 0.9459 - loss: 0.1346 - val_Precision: 0.9449 - val_Recall: 0.9449 - val_accuracy: 0.9449 - val_loss: 0.1320\n",
            "Epoch 5/10\n",
            "\u001b[1m131/131\u001b[0m \u001b[32m━━━━━━━━━━━━━━━━━━━━\u001b[0m\u001b[37m\u001b[0m \u001b[1m7s\u001b[0m 54ms/step - Precision: 0.9441 - Recall: 0.9438 - accuracy: 0.9441 - loss: 0.1380 - val_Precision: 0.9449 - val_Recall: 0.9449 - val_accuracy: 0.9449 - val_loss: 0.1291\n",
            "Epoch 6/10\n",
            "\u001b[1m131/131\u001b[0m \u001b[32m━━━━━━━━━━━━━━━━━━━━\u001b[0m\u001b[37m\u001b[0m \u001b[1m7s\u001b[0m 49ms/step - Precision: 0.9466 - Recall: 0.9460 - accuracy: 0.9461 - loss: 0.1309 - val_Precision: 0.9449 - val_Recall: 0.9449 - val_accuracy: 0.9449 - val_loss: 0.1292\n",
            "Epoch 7/10\n",
            "\u001b[1m131/131\u001b[0m \u001b[32m━━━━━━━━━━━━━━━━━━━━\u001b[0m\u001b[37m\u001b[0m \u001b[1m12s\u001b[0m 60ms/step - Precision: 0.9474 - Recall: 0.9473 - accuracy: 0.9473 - loss: 0.1297 - val_Precision: 0.9449 - val_Recall: 0.9449 - val_accuracy: 0.9449 - val_loss: 0.1277\n",
            "Epoch 8/10\n",
            "\u001b[1m131/131\u001b[0m \u001b[32m━━━━━━━━━━━━━━━━━━━━\u001b[0m\u001b[37m\u001b[0m \u001b[1m9s\u001b[0m 51ms/step - Precision: 0.9463 - Recall: 0.9459 - accuracy: 0.9460 - loss: 0.1303 - val_Precision: 0.9449 - val_Recall: 0.9446 - val_accuracy: 0.9446 - val_loss: 0.1297\n",
            "Epoch 9/10\n",
            "\u001b[1m131/131\u001b[0m \u001b[32m━━━━━━━━━━━━━━━━━━━━\u001b[0m\u001b[37m\u001b[0m \u001b[1m7s\u001b[0m 53ms/step - Precision: 0.9437 - Recall: 0.9435 - accuracy: 0.9436 - loss: 0.1342 - val_Precision: 0.9449 - val_Recall: 0.9449 - val_accuracy: 0.9449 - val_loss: 0.1281\n",
            "Epoch 10/10\n",
            "\u001b[1m131/131\u001b[0m \u001b[32m━━━━━━━━━━━━━━━━━━━━\u001b[0m\u001b[37m\u001b[0m \u001b[1m7s\u001b[0m 50ms/step - Precision: 0.9475 - Recall: 0.9472 - accuracy: 0.9472 - loss: 0.1290 - val_Precision: 0.9449 - val_Recall: 0.9449 - val_accuracy: 0.9449 - val_loss: 0.1297\n"
          ]
        }
      ]
    },
    {
      "cell_type": "markdown",
      "source": [
        "(None, 10, 80) означает, что выходные данные имеют 10 временных шагов и 80 признаков на временной шаг.\n",
        "\n",
        "107,008 — это количество параметров, которые LSTM обучает\n",
        "\n",
        "(None, 3) — выходной вектор размером 3, что соответствует количеству меток для многометочной классификации.\n",
        "\n",
        "Precision (Точность):\n",
        "Это метрика, показывающая, насколько точно модель предсказывает положительные классы. Она рассчитывается как отношение истинных положительных предсказаний (TP) к общему числу предсказанных положительных классов (TP + FP). В данном случае точность составляет 0.7925, что означает, что 79.25% предсказанных положительных классов действительно являются положительными.\n",
        "\n",
        "Recall (Полнота):\n",
        "Это метрика, показывающая, насколько хорошо модель находит все положительные примеры. Она рассчитывается как отношение истинных положительных предсказаний (TP) к общему числу фактических положительных классов (TP + FN). Полнота составляет 0.7453, что означает, что модель находит 74.53% всех фактических положительных классов.\n",
        "\n",
        "Accuracy (Точность):\n",
        "Это общая метрика, показывающая долю правильных предсказаний (как положительных, так и отрицательных) среди всех предсказаний. В данном случае точность составляет 0.7794, что означает, что 77.94% всех предсказаний модели были правильными.\n",
        "\n",
        "Loss (Потери):\n",
        "Это значение функции потерь, которое показывает, насколько хорошо модель предсказывает результаты. В данном случае значение потерь составляет 0.3561. Низкое значение потерь указывает на то, что модель хорошо предсказывает классы.\n",
        "val_Precision, val_Recall, val_accuracy, val_loss:\n",
        "Эти метрики аналогичны вышеописанным, но они относятся к валидационному набору данных (т.е. к данным, которые не использовались для обучения модели). Они помогают оценить, как хорошо модель обобщается на новых данных. Например, val_Precision: 0.9403 указывает на высокую точность на валидационном наборе."
      ],
      "metadata": {
        "id": "4Sxw27z906wO"
      }
    },
    {
      "cell_type": "markdown",
      "source": [
        "np.where(y_test == 1)[1] для нахождения индексов классов, которые присутствуют в тестовых данных. np.unique возвращает уникальные классы, которые были предсказаны моделью\n",
        "\n",
        "матрицу ошибок для многометочной классификации. Она возвращает массив, где каждая матрица соответствует одному классу и показывает количество истинных положительных, ложных положительных, ложных отрицательных и истинных отрицательных предсказаний"
      ],
      "metadata": {
        "id": "Oka_hrtM1jen"
      }
    },
    {
      "cell_type": "markdown",
      "source": [
        "Точность (Accuracy): доля правильных предсказаний.\n",
        "\n",
        "Полнота (Recall): способность модели находить все положительные примеры.\n",
        "\n",
        "Точность (Precision): доля правильных положительных предсказаний среди всех положительных предсказаний.\n",
        "\n",
        "F1-мера: гармоническое среднее между точностью и полнотой, что полезно, когда необходимо учитывать оба аспекта."
      ],
      "metadata": {
        "id": "PqWo6Qkj1_4m"
      }
    },
    {
      "cell_type": "code",
      "source": [
        "# После получения y_pred добавим проверку классов\n",
        "present_classes = np.unique(np.where(y_test == 1)[1])\n",
        "print(\"Присутствующие классы в тестовых данных:\", present_classes)\n",
        "\n",
        "# Обновим target_names в соответствии с классами\n",
        "target_names = ['Normal', 'Recon', 'Exploit', 'C&C', 'Other']\n",
        "filtered_targets = [target_names[i] for i in present_classes]\n",
        "\n",
        "# Вывод classification_report с правильными параметрами\n",
        "print(\"\\nClassification Report:\")\n",
        "print(classification_report(y_test, y_pred,\n",
        "                          labels=present_classes,\n",
        "                          target_names=filtered_targets,\n",
        "                          zero_division=0))\n",
        "\n",
        "# Confusion matrix\n",
        "mcm = multilabel_confusion_matrix(y_test[:, present_classes],\n",
        "                                 y_pred[:, present_classes])\n",
        "\n",
        "for i, idx in enumerate(present_classes):\n",
        "    print(f\"\\n{target_names[idx]} Confusion Matrix:\")\n",
        "    print(mcm[i])\n",
        "    tn, fp, fn, tp = mcm[i].ravel()\n",
        "    print(f\"True Positives: {tp}, False Positives: {fp}\")\n",
        "    print(f\"False Negatives: {fn}, True Negatives: {tn}\")"
      ],
      "metadata": {
        "colab": {
          "base_uri": "https://localhost:8080/"
        },
        "id": "pgy0rcKfTnbv",
        "outputId": "448daa5b-78a5-43ed-ddf0-8d359334f297"
      },
      "execution_count": null,
      "outputs": [
        {
          "output_type": "stream",
          "name": "stdout",
          "text": [
            "Присутствующие классы в тестовых данных: [0 1 2]\n",
            "\n",
            "Classification Report:\n",
            "              precision    recall  f1-score   support\n",
            "\n",
            "      Normal       1.00      1.00      1.00       889\n",
            "       Recon       0.93      1.00      0.96      3054\n",
            "     Exploit       0.00      0.00      0.00       230\n",
            "\n",
            "   micro avg       0.94      0.94      0.94      4173\n",
            "   macro avg       0.64      0.67      0.65      4173\n",
            "weighted avg       0.89      0.94      0.92      4173\n",
            " samples avg       0.94      0.94      0.94      4173\n",
            "\n",
            "\n",
            "Normal Confusion Matrix:\n",
            "[[3284    0]\n",
            " [   0  889]]\n",
            "True Positives: 889, False Positives: 0\n",
            "False Negatives: 0, True Negatives: 3284\n",
            "\n",
            "Recon Confusion Matrix:\n",
            "[[ 889  230]\n",
            " [   0 3054]]\n",
            "True Positives: 3054, False Positives: 230\n",
            "False Negatives: 0, True Negatives: 889\n",
            "\n",
            "Exploit Confusion Matrix:\n",
            "[[3943    0]\n",
            " [ 230    0]]\n",
            "True Positives: 0, False Positives: 0\n",
            "False Negatives: 230, True Negatives: 3943\n"
          ]
        }
      ]
    },
    {
      "cell_type": "markdown",
      "source": [
        "Визуализация timeline heatmap\n",
        "Преобразует временные метки в формат datetime\n",
        "\n",
        "Группирует атаки по 5-минутным интервалам\n",
        "\n",
        "Считает количество атак каждого типа в каждом интервале\n",
        "\n",
        "Строит тепловую карту активности атак по времени"
      ],
      "metadata": {
        "id": "kUrkKwxbuOv-"
      }
    },
    {
      "cell_type": "markdown",
      "source": [
        "sum(1 for labels in x if 1 in labels) — это выражение считает количество событий, относящихся к этапу Recon (где метка равна 1). Аналогично для других этапов."
      ],
      "metadata": {
        "id": "xZVLLFE_2Wh0"
      }
    },
    {
      "cell_type": "code",
      "source": [
        "# Timeline Heatmap\n",
        "df['Timestamp'] = pd.to_datetime(df['Timestamp'])\n",
        "attack_df = df[df['Label'] == 'DDoS'].copy()\n",
        "attack_df['Time Window'] = attack_df['Timestamp'].dt.floor('5T')  # 5-минутные окна\n",
        "\n",
        "# Подсчет активности по этапам в каждом окне\n",
        "phase_activity = attack_df.groupby('Time Window')['Attack Labels'].apply(\n",
        "    lambda x: pd.Series({\n",
        "        'Recon': sum(1 for labels in x if 1 in labels),\n",
        "        'Exploit': sum(1 for labels in x if 2 in labels),\n",
        "        'C&C': sum(1 for labels in x if 3 in labels),\n",
        "        'Other': sum(1 for labels in x if 4 in labels)\n",
        "    })\n",
        ").unstack()\n",
        "\n",
        "# Визуализация heatmap\n",
        "plt.figure(figsize=(15, 6))\n",
        "sns.heatmap(phase_activity.T, cmap='YlOrRd', annot=True, fmt='d')\n",
        "plt.title('DDoS Attack Timeline by Phase')\n",
        "plt.xlabel('Time Window')\n",
        "plt.ylabel('Attack Phase')\n",
        "plt.show()"
      ],
      "metadata": {
        "colab": {
          "base_uri": "https://localhost:8080/",
          "height": 618
        },
        "id": "xiyJh7pCspfN",
        "outputId": "531f0dc5-b457-4360-c90e-152d14d01848"
      },
      "execution_count": null,
      "outputs": [
        {
          "output_type": "stream",
          "name": "stderr",
          "text": [
            "<ipython-input-185-0cf2c80ec1e3>:4: FutureWarning: 'T' is deprecated and will be removed in a future version, please use 'min' instead.\n",
            "  attack_df['Time Window'] = attack_df['Timestamp'].dt.floor('5T')  # 5-минутные окна\n"
          ]
        },
        {
          "output_type": "display_data",
          "data": {
            "text/plain": [
              "<Figure size 1500x600 with 2 Axes>"
            ],
            "image/png": "[encoded data removed]"
          },
          "metadata": {}
        }
      ]
    }
  ]
}